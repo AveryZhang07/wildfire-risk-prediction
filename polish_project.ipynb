{
  "nbformat": 4,
  "nbformat_minor": 0,
  "metadata": {
    "colab": {
      "provenance": [],
      "authorship_tag": "ABX9TyPJ8o4wWPWiH0McOEoYSUwu"
    },
    "kernelspec": {
      "name": "python3",
      "display_name": "Python 3"
    },
    "language_info": {
      "name": "python"
    }
  },
  "cells": [
    {
      "cell_type": "markdown",
      "source": [
        "# **Wildfire Risk Prediction – Boulder, CO**  \n",
        "\n",
        "This project demonstrates a machine learning workflow for predicting wildfire occurrence in the Boulder/Front Range region.  \n",
        "The model integrates multiple environmental datasets, including **weather (NOAA)**, **fire history (NASA FIRMS)**, **vegetation indices (NDVI/EVI)**, and **drought stress (DSCI)**.  \n",
        "\n",
        "The modeling approach utilizes **XGBoost** with evaluation metrics such as **ROC-AUC** and **F1 score** to assess predictive performance.  \n"
      ],
      "metadata": {
        "id": "PDLGRXXAqIiC"
      }
    },
    {
      "cell_type": "code",
      "source": [
        "# Core data and utilities\n",
        "import pandas as pd\n",
        "import numpy as np\n",
        "import seaborn as sns\n",
        "import matplotlib.pyplot as plt\n",
        "import requests\n",
        "from io import StringIO\n",
        "from google.colab import userdata\n",
        "\n",
        "# Machine learning\n",
        "from xgboost import XGBClassifier\n",
        "from sklearn.model_selection import train_test_split\n",
        "from sklearn.metrics import roc_auc_score, f1_score, classification_report"
      ],
      "metadata": {
        "id": "KNPbCC1TrsWA"
      },
      "execution_count": 87,
      "outputs": []
    },
    {
      "cell_type": "markdown",
      "source": [
        "---\n",
        "## **Load Datasets**\n",
        "\n",
        "To model wildfire occurrence in the Boulder / Front Range region, I integrate multiple open datasets that capture both fire activity and its environmental drivers:\n",
        "\n",
        "- **Fire Archive (NASA FIRMS)** - Satellite-detected fire events (ignitions + spread).\n",
        "- **Weather (NOAA)** - Daily temperature, precipitation, wind speed, and related variables.\n",
        "- **Vegetation Indices (NASA AppEEARS & MODIS)** - NDVI and EVI for vegetation health and fuel conditions.\n",
        "- **Drought Index (US Drought Monitor)** - Weekly Drought Severity & Coverage Index (DSCI).\n",
        "\n",
        "--\n",
        "\n",
        "### NOAA Weather Data (via API)\n",
        "\n",
        "Daily weather observations are retrieved directly from the NOAA Climate Data API:\n",
        "\n",
        "- **API setup**: Token + endpoint  \n",
        "- **Parameters**: Station ID, time range (2012–2025), output format (`csv`)  \n",
        "- **Response**: Parsed into a `pandas` DataFrame (`noaa_data_raw`) for downstream modeling.\n"
      ],
      "metadata": {
        "id": "59qlAPsvRiz2"
      }
    },
    {
      "cell_type": "code",
      "source": [
        "# Retrieve NOAA API key stored in Google Colab\n",
        "token = userdata.get('NOAA_API')\n",
        "\n",
        "# NOAA API token + endpoint\n",
        "token = token\n",
        "url = \"https://www.ncei.noaa.gov/access/services/data/v1\"\n",
        "\n",
        "# Request parameters: dataset, station, time range, output format\n",
        "params = {\n",
        "    \"dataset\": \"daily-summaries\",\n",
        "    \"stations\": \"USW00003017\",\n",
        "    \"startDate\": \"2012-01-01\",\n",
        "    \"endDate\": \"2025-07-01\",\n",
        "    \"format\": \"csv\",\n",
        "    \"units\": \"standard\",\n",
        "    \"includeAttributes\": \"false\"\n",
        "}\n",
        "\n",
        "headers = {\n",
        "    \"token\": token\n",
        "}\n",
        "\n",
        "# Send request and parse response into DataFrame\n",
        "response = requests.get(url, params=params, headers=headers)\n",
        "noaa_data_raw = pd.read_csv(StringIO(response.text))\n",
        "\n",
        "\n",
        "# Load additional data needed for fire risk modeling\n",
        "fire_data_raw = pd.read_csv(\"fire_archive_SV-C2_641212.csv\") # NASA FIRMS\n",
        "drought_data_raw = pd.read_csv(\"Drought_Index.csv\") # US Drought Monitor\n",
        "evi_data_raw = pd.read_csv('EVI.csv') # MODIS\n",
        "ndvi_data_raw = pd.read_csv(\"NDVI.csv\") # NASA AppEEARS"
      ],
      "metadata": {
        "id": "qtGSalGcu41d"
      },
      "execution_count": 91,
      "outputs": []
    },
    {
      "cell_type": "markdown",
      "source": [
        "---\n",
        "## **Clean Data**\n",
        "\n",
        "Data preprocessing ensures consistency across datasets before merging.\n",
        "\n",
        "- **NOAA Weather Data**: Remove rows with missing temperature values and reformatt dates.  \n",
        "- **Wildfire Occurrence Data**: Aggregate fire counts by day, fill missing days with zero fires.  \n",
        "- **Drought Data (DSCI)**: Reformatt dates and drop metadata columns.\n",
        "- **NDVI Data**: Select relevant columns, rename them for clairty, and reformatt dates.\n",
        "- **EVI Data**: Rename columns for consistency, converte the date column to datetime, and select relevant variables for analysis.\n",
        "\n",
        "\n"
      ],
      "metadata": {
        "id": "-3BumE-BwIzr"
      }
    },
    {
      "cell_type": "markdown",
      "source": [
        "### NOAA Weather Data"
      ],
      "metadata": {
        "id": "wh3sVG4ORltq"
      }
    },
    {
      "cell_type": "code",
      "source": [
        "# TAVG (average temperature) values are missing for early dates in the dataset; these rows are excluded\n",
        "# Drop rows where TAVG is missing\n",
        "noaa_data_clean = noaa_data_raw.dropna(subset='TAVG')\n",
        "\n",
        "# Select relevant weather columns\n",
        "# Convert date to datetime format\n",
        "weather_data = noaa_data_clean[['TAVG', 'DATE', 'PRCP', 'AWND', 'WSF2', 'WSF5']].copy()\n",
        "weather_data['DATE'] = pd.to_datetime(weather_data['DATE'])"
      ],
      "metadata": {
        "id": "ANJMkjesw55T"
      },
      "execution_count": 92,
      "outputs": []
    },
    {
      "cell_type": "markdown",
      "source": [
        "### Wildfire Occurance Data"
      ],
      "metadata": {
        "id": "zvt7FR4AQMtC"
      }
    },
    {
      "cell_type": "code",
      "source": [
        "# Convert acquisition dates to datetime format\n",
        "fire_data_raw['date'] = pd.to_datetime(fire_data_raw['acq_date'])\n",
        "\n",
        "# Create a fire summary DataFrame with only the date column\n",
        "# (for aggregating/removing duplicate fire records)\n",
        "fire_summary = pd.DataFrame({'DATE': fire_data_raw['date']})\n",
        "\n",
        "# Create a DataFrame with unique dates and 'num_fires' column\n",
        "fire_count = fire_summary.groupby('DATE').size().rename('num_fires').reset_index()\n",
        "\n",
        "# Create a DataFrame of dates ranging from the earliest fire occurance to the latest\n",
        "full_dates = pd.DataFrame({\n",
        "    'DATE': pd.date_range(start=fire_summary['DATE'].min(), end = fire_summary['DATE'].max())\n",
        "})\n",
        "\n",
        "# Merge full date range with fire counts\n",
        "# Ensures all days are included in the data, including days with 0 fires\n",
        "fire_data = full_dates.merge(fire_count, how='left', on = 'DATE')\n",
        "\n",
        "# Fill all NaN values with 0's for days without fires\n",
        "fire_data['num_fires'] = fire_data['num_fires'].fillna(0).astype(int)"
      ],
      "metadata": {
        "id": "Gjk623p7whGU"
      },
      "execution_count": 93,
      "outputs": []
    },
    {
      "cell_type": "markdown",
      "source": [
        "### Drought Data (DSCI)"
      ],
      "metadata": {
        "id": "yp1aMGS0UlTa"
      }
    },
    {
      "cell_type": "code",
      "source": [
        "# Create date column in datetime format\n",
        "drought_data_raw['DATE'] = pd.to_datetime(drought_data_raw['MapDate'], format = '%Y%m%d')\n",
        "\n",
        "# Drop irrelevant columns\n",
        "drought_data_filtered = drought_data_raw.drop(columns=\n",
        " ['Name', 'ClimateDivision', 'State', 'MapDate'],\n",
        " axis = 1)"
      ],
      "metadata": {
        "id": "JkIvFa6pxtFi"
      },
      "execution_count": 94,
      "outputs": []
    },
    {
      "cell_type": "markdown",
      "source": [
        "### NDVI Data"
      ],
      "metadata": {
        "id": "iLgog10YVTPK"
      }
    },
    {
      "cell_type": "code",
      "source": [
        "# Select NDVI-related columns and rename them for clarity and consistency\n",
        "ndvi_data_filtered = ndvi_data_raw[['Mean', 'Variance', 'Date']].copy()\n",
        "ndvi_data_filtered.rename(columns = {'Mean': 'NDVI_Mean',\n",
        "                       'Variance': 'NDVI_Variance',\n",
        "                       'Date': 'DATE'\n",
        "                       }, inplace = True)\n",
        "\n",
        "# Change 'DATE' column to datetime format\n",
        "ndvi_data_filtered['DATE'] = pd.to_datetime(ndvi_data_filtered['DATE'])"
      ],
      "metadata": {
        "id": "sdaWg6Lbxwmz"
      },
      "execution_count": 95,
      "outputs": []
    },
    {
      "cell_type": "markdown",
      "source": [
        "### EVI Data"
      ],
      "metadata": {
        "id": "fR25XFt9WEE9"
      }
    },
    {
      "cell_type": "code",
      "source": [
        "# Rename columns for consistency\n",
        "evi_data_raw.rename(columns={' dt': 'DATE',\n",
        "                             ' value_min': 'evi_min',\n",
        "                             ' value_max': 'evi_max',\n",
        "                             ' value_mean': 'evi_mean',\n",
        "                             ' value_standard_deviation': 'evi_standard_deviation',\n",
        "                             }, inplace = True)\n",
        "\n",
        "# Covert 'DATE' column to datetime format\n",
        "evi_data_raw['DATE'] = pd.to_datetime(evi_data_raw['DATE'])\n",
        "\n",
        "# Select relevant EVI columns for analysis\n",
        "evi_data_filtered = evi_data_raw[['DATE', 'evi_min', 'evi_max', 'evi_mean', 'evi_standard_deviation']].copy()"
      ],
      "metadata": {
        "id": "ffZ8blm9xIqk"
      },
      "execution_count": 96,
      "outputs": []
    },
    {
      "cell_type": "markdown",
      "source": [
        "---\n",
        "## **Merge Data**\n",
        "\n",
        "All preprocessed datasets are merged into a single DataFrame (`full_df`) on the `DATE` column.  \n",
        "\n",
        "Steps:  \n",
        "1. Merge weather, fire, drought, NDVI, and EVI data.  \n",
        "2. Align datasets by overlapping date range to ensure consistency across sources.  \n",
        "3. Filter `full_df` so all rows represent dates present in every dataset.  \n",
        "\n",
        "The resulting DataFrame provides a unified, time-aligned dataset for modeling.  \n"
      ],
      "metadata": {
        "id": "JxCfFBwix67A"
      }
    },
    {
      "cell_type": "code",
      "source": [
        "# Merge all datasets into 'full_df'\n",
        "df_temp = pd.merge(weather_data, fire_data, how='inner', on='DATE')\n",
        "df_temp_1 = pd.merge(df_temp, drought_data_filtered, how = 'left', on = 'DATE')\n",
        "df_temp_2 = pd.merge(df_temp_1, ndvi_data_filtered, how = 'left', on = 'DATE')\n",
        "full_df = pd.merge(df_temp_2, evi_data_filtered, how = 'left', on = 'DATE')\n",
        "\n",
        "# List of relevant DataFrames to align by date\n",
        "dfs = [weather_data, fire_data, drought_data_filtered, ndvi_data_filtered, evi_data_filtered]\n",
        "\n",
        "# Determine overlapping date range across all DataFrames\n",
        "latest_start = max(df['DATE'].min() for df in dfs)\n",
        "earliest_end = min(df['DATE'].max() for df in dfs)\n",
        "\n",
        "# Filter full_df to only include rows within the date range\n",
        "# Confirms all datasets have matching dates\n",
        "full_df = full_df.loc[(full_df['DATE'] >= latest_start) & (full_df['DATE'] <= earliest_end)]"
      ],
      "metadata": {
        "id": "DkarOwsbx71S"
      },
      "execution_count": 97,
      "outputs": []
    },
    {
      "cell_type": "markdown",
      "source": [
        "---\n",
        "## **Initial Data Analysis (IDA)**\n",
        "Initial Data Analysis (IDA) is performed to assess data quality, focusing on handling missing values, and validating feature ranges."
      ],
      "metadata": {
        "id": "IVtUym3PNOuP"
      }
    },
    {
      "cell_type": "markdown",
      "source": [
        "### Data Types\n",
        "Look for potential object columns that have numerical values stored as strings."
      ],
      "metadata": {
        "id": "dd7dZNetQe6b"
      }
    },
    {
      "cell_type": "code",
      "source": [
        "# Check the data type of each column\n",
        "print(full_df.dtypes)"
      ],
      "metadata": {
        "colab": {
          "base_uri": "https://localhost:8080/"
        },
        "id": "5p8AtsHEOvhi",
        "outputId": "f814d700-2dc4-4c1d-98c8-ad89c9c8eebc"
      },
      "execution_count": 98,
      "outputs": [
        {
          "output_type": "stream",
          "name": "stdout",
          "text": [
            "TAVG                             float64\n",
            "DATE                      datetime64[ns]\n",
            "PRCP                             float64\n",
            "AWND                             float64\n",
            "WSF2                             float64\n",
            "WSF5                             float64\n",
            "num_fires                          int64\n",
            "DSCI                             float64\n",
            "NDVI_Mean                        float64\n",
            "NDVI_Variance                    float64\n",
            "evi_min                          float64\n",
            "evi_max                          float64\n",
            "evi_mean                         float64\n",
            "evi_standard_deviation           float64\n",
            "dtype: object\n"
          ]
        }
      ]
    },
    {
      "cell_type": "markdown",
      "source": [
        "All features are numeric with no object-type columns detected. Therefore, no data type conversions are required."
      ],
      "metadata": {
        "id": "ejY6p9UePtuv"
      }
    },
    {
      "cell_type": "markdown",
      "source": [
        "### Value Ranges\n",
        "- Vegetation indices should be between -1 and 1\n",
        "- Precipitation must be ≥ 0\n",
        "- Temperature should have realistic bounds for Colorado (-15°F to 115°F)\n",
        "- Wind speed must be ≥ 0"
      ],
      "metadata": {
        "id": "bf5D99wtQihI"
      }
    },
    {
      "cell_type": "code",
      "source": [
        "# Weather checks\n",
        "invalid_temp = ((full_df['TAVG'] < -15) | (full_df['TAVG'] > 115)).any()\n",
        "print(f'TAVG: {invalid_temp}')\n",
        "\n",
        "invalid_prcp = (full_df['PRCP'] < 0).any()\n",
        "print(f'PRCP: {invalid_prcp}')\n",
        "\n",
        "invalid_DSCI = ((full_df['DSCI'] < 0) | (full_df['DSCI'] > 500)).any()\n",
        "print(f'DSCI: {invalid_DSCI}')\n",
        "\n",
        "# Wind checks\n",
        "wind_cols = ['AWND', 'WSF2', 'WSF5']\n",
        "for c in wind_cols:\n",
        "  has_invalid = ((full_df['AWND'] < 0) | (full_df['AWND'] > 60)).any()\n",
        "  print(f'{c}: {has_invalid}')\n",
        "\n",
        "# Vegetation checks\n",
        "veg_cols = ['NDVI_Mean', 'NDVI_Variance', 'evi_min', 'evi_max', 'evi_mean', 'evi_standard_deviation']\n",
        "for c in veg_cols:\n",
        "    has_invalid = ((full_df[c] < -1) | (full_df[c] > 1)).any()\n",
        "    print(f'{c}: {has_invalid}')"
      ],
      "metadata": {
        "colab": {
          "base_uri": "https://localhost:8080/"
        },
        "id": "EniCcbR7QaQx",
        "outputId": "e95797a9-2739-4ef9-d9be-58888e8d5dd1"
      },
      "execution_count": 99,
      "outputs": [
        {
          "output_type": "stream",
          "name": "stdout",
          "text": [
            "TAVG: False\n",
            "PRCP: False\n",
            "DSCI: False\n",
            "AWND: False\n",
            "WSF2: False\n",
            "WSF5: False\n",
            "NDVI_Mean: False\n",
            "NDVI_Variance: False\n",
            "evi_min: False\n",
            "evi_max: False\n",
            "evi_mean: False\n",
            "evi_standard_deviation: False\n"
          ]
        }
      ]
    },
    {
      "cell_type": "markdown",
      "source": [
        "All features are within expected ranges."
      ],
      "metadata": {
        "id": "tjb4YFkgVXnK"
      }
    },
    {
      "cell_type": "markdown",
      "source": [
        "### Missing Values"
      ],
      "metadata": {
        "id": "zkE0BtsLOl1O"
      }
    },
    {
      "cell_type": "code",
      "source": [
        "# Count missing values per column\n",
        "missing_counts = full_df.isna().sum()\n",
        "\n",
        "# Create a report\n",
        "missing_report = pd.DataFrame({\n",
        "    \"Missing Count\": missing_counts\n",
        "})\n",
        "\n",
        "print(missing_report)"
      ],
      "metadata": {
        "colab": {
          "base_uri": "https://localhost:8080/"
        },
        "id": "TUTjXO08V6Tb",
        "outputId": "a6911760-1cd2-4b95-fea3-e495423e924b"
      },
      "execution_count": 100,
      "outputs": [
        {
          "output_type": "stream",
          "name": "stdout",
          "text": [
            "                        Missing Count\n",
            "TAVG                                0\n",
            "DATE                                0\n",
            "PRCP                                0\n",
            "AWND                                1\n",
            "WSF2                                1\n",
            "WSF5                                5\n",
            "num_fires                           0\n",
            "DSCI                             3366\n",
            "NDVI_Mean                        3681\n",
            "NDVI_Variance                    3681\n",
            "evi_min                          3681\n",
            "evi_max                          3681\n",
            "evi_mean                         3681\n",
            "evi_standard_deviation           3681\n"
          ]
        }
      ]
    },
    {
      "cell_type": "markdown",
      "source": [
        "Aside from the 7 and 16-day intervals left by drought and vegetation indices, the wind variables (AWND, WSF5, WSF2) contain missing values. These are imputed by forward filling, on the assumption short gaps in the dataset can be reasonably approximated by carrying forward the most recent observed value. Drought and vegetation indices are addressed in the feature engineering section.\n",
        "\n"
      ],
      "metadata": {
        "id": "yxgZSeodOJSo"
      }
    },
    {
      "cell_type": "code",
      "source": [
        "# Forward filling mssing values in wind variables\n",
        "full_df[['AWND', 'WSF2', 'WSF5']] = full_df[['AWND', 'WSF2', 'WSF5']].ffill()"
      ],
      "metadata": {
        "id": "3zO1svwtOM2j"
      },
      "execution_count": 101,
      "outputs": []
    },
    {
      "cell_type": "markdown",
      "source": [
        "### Outlier Detection\n",
        "Check for outliers for key columns."
      ],
      "metadata": {
        "id": "8TxOQ_EVYUDx"
      }
    },
    {
      "cell_type": "code",
      "source": [
        "key_features = ['num_fires', 'TAVG', 'PRCP', 'AWND', 'NDVI_Mean', 'DSCI', 'evi_mean']\n",
        "print(full_df[key_features].agg(['min', 'mean', 'max']))"
      ],
      "metadata": {
        "colab": {
          "base_uri": "https://localhost:8080/"
        },
        "id": "Coq0YllFWyRf",
        "outputId": "280bc972-3bc7-465b-e32f-b0d6a15e9b22"
      },
      "execution_count": 102,
      "outputs": [
        {
          "output_type": "stream",
          "name": "stdout",
          "text": [
            "      num_fires       TAVG      PRCP       AWND  NDVI_Mean        DSCI  \\\n",
            "min    0.000000 -11.000000  0.000000   3.580000   0.066327    0.000000   \n",
            "mean   0.326884  52.145876  0.037905   9.962368   0.410193   85.453737   \n",
            "max   80.000000  86.000000  2.920000  32.880000   0.637805  360.000000   \n",
            "\n",
            "      evi_mean  \n",
            "min  -0.004600  \n",
            "mean  0.240689  \n",
            "max   0.436300  \n"
          ]
        }
      ]
    },
    {
      "cell_type": "markdown",
      "source": [
        "The `num_fires` feature stands out with a max of 80 fires. Although this seem like an outlier, high `num_fires` values are produced by satellites either representing numerous small ignitions or multiple satellite detections of the same wildfire across different pixels. These counts are retained as-is to represent fire condition intensity rather than an actual fire count."
      ],
      "metadata": {
        "id": "AWl7n0GRYegz"
      }
    },
    {
      "cell_type": "markdown",
      "source": [
        "---\n",
        "## **Exploratory Data Analysis (EDA)**\n",
        "The goal of this section is to explore the data, including an overview of target imbalance, the distribution of key features, their relationship with fire occurrence, and seasonal trends in wildfire activity.\n"
      ],
      "metadata": {
        "id": "3r_DNWA72sJ_"
      }
    },
    {
      "cell_type": "markdown",
      "source": [
        "### Target Distribution\n"
      ],
      "metadata": {
        "id": "Togui0KlydlF"
      }
    },
    {
      "cell_type": "code",
      "source": [
        "# Create binary target variable: 0 = no fire, 1 = fire\n",
        "fire_flag = (full_df['num_fires'] > 0).astype(int)\n",
        "\n",
        "# Count how many cases belong to each class (0 vs 1)\n",
        "class_counts = fire_flag.value_counts().sort_index()\n",
        "\n",
        "# Plot\n",
        "plt.figure(figsize=(5,4))\n",
        "class_counts.plot(kind='bar', color=['royalblue', 'tomato'])\n",
        "plt.xticks([0,1], ['0 (no fire)', '1 (fire)'], rotation=0)\n",
        "plt.ylabel(\"Number of Cases\")\n",
        "plt.xlabel(\"Classes\")\n",
        "plt.title(\"Target Distribution: Fire vs No Fire\")\n",
        "plt.show()"
      ],
      "metadata": {
        "colab": {
          "base_uri": "https://localhost:8080/",
          "height": 410
        },
        "id": "9ddTI6S6pCNC",
        "outputId": "737d42e2-3d5b-489b-87b4-31fd660237e8"
      },
      "execution_count": 103,
      "outputs": [
        {
          "output_type": "display_data",
          "data": {
            "text/plain": [
              "<Figure size 500x400 with 1 Axes>"
            ],
            "image/png": "[encoded data removed]"
          },
          "metadata": {}
        }
      ]
    },
    {
      "cell_type": "markdown",
      "source": [
        "**Target Distribution:** The data is highly imbalanced, with ~80% of the data being in Class 0. Parameters like `scale_pos_weight` in XGBoost and target engineering are used to reduce imbalance."
      ],
      "metadata": {
        "id": "e-7rrmlJsPZ6"
      }
    },
    {
      "cell_type": "markdown",
      "source": [
        "### Wildfire Seasonality"
      ],
      "metadata": {
        "id": "I8F8OjEGylpt"
      }
    },
    {
      "cell_type": "code",
      "source": [
        "# Extract month\n",
        "full_df['month'] = full_df['DATE'].dt.month\n",
        "full_df['year'] = full_df['DATE'].dt.year\n",
        "\n",
        "# Aggregate: average fires per month across all years\n",
        "monthly_avg = full_df.groupby('month')['num_fires'].mean()\n",
        "\n",
        "# Plot\n",
        "plt.figure(figsize=(8,5))\n",
        "monthly_avg.plot(kind='bar', color='tomato')\n",
        "plt.xticks(range(0,12), ['Jan','Feb','Mar','Apr','May','Jun','Jul','Aug','Sep','Oct','Nov','Dec'], rotation=0)\n",
        "plt.ylabel(\"Average Number of Fires\")\n",
        "plt.xlabel(\"Month\")\n",
        "plt.title(\"Average Monthly Fire Occurrence\")\n",
        "plt.show()"
      ],
      "metadata": {
        "colab": {
          "base_uri": "https://localhost:8080/",
          "height": 487
        },
        "id": "VJiB4yZItwfA",
        "outputId": "f1fe739b-d2d1-473a-ec94-16b3ba291936"
      },
      "execution_count": 104,
      "outputs": [
        {
          "output_type": "display_data",
          "data": {
            "text/plain": [
              "<Figure size 800x500 with 1 Axes>"
            ],
            "image/png": "[encoded data removed]"
          },
          "metadata": {}
        }
      ]
    },
    {
      "cell_type": "markdown",
      "source": [
        "**Average Monthly Fire Occurance:** Fires generally peak in the summer months, but a few outlier months (October and December) had unusually high fire counts in certain years (see `top5_fires` below). Some fires also occur in February and March, which is consistent with occasional early-season events in Colorado. To capture seasonality, cyclical month features are created using sine and cosine transformations."
      ],
      "metadata": {
        "id": "FlYCz3jAzfuR"
      }
    },
    {
      "cell_type": "code",
      "source": [
        "full_df['month'] = full_df['DATE'].dt.month\n",
        "\n",
        "# Aggregate total fires per month-year\n",
        "fires_by_month = full_df.groupby(['year','month'])['num_fires'].sum().reset_index()\n",
        "\n",
        "# Sort by number of fires descending and show top 5\n",
        "top5_fires = fires_by_month.sort_values(by='num_fires', ascending=False).head(5)\n",
        "top5_fires"
      ],
      "metadata": {
        "colab": {
          "base_uri": "https://localhost:8080/",
          "height": 206
        },
        "id": "tY16a0Uk2DDD",
        "outputId": "bd5a1a6e-f9fd-435a-b722-03364c405fa7"
      },
      "execution_count": 105,
      "outputs": [
        {
          "output_type": "execute_result",
          "data": {
            "text/plain": [
              "     year  month  num_fires\n",
              "78   2020     10        139\n",
              "92   2021     12        112\n",
              "28   2016      7         52\n",
              "39   2017      6         43\n",
              "101  2022      9         32"
            ],
            "text/html": [
              "\n",
              "  <div id=\"df-892b0306-c100-484b-8e4b-71fe0c00301a\" class=\"colab-df-container\">\n",
              "    <div>\n",
              "<style scoped>\n",
              "    .dataframe tbody tr th:only-of-type {\n",
              "        vertical-align: middle;\n",
              "    }\n",
              "\n",
              "    .dataframe tbody tr th {\n",
              "        vertical-align: top;\n",
              "    }\n",
              "\n",
              "    .dataframe thead th {\n",
              "        text-align: right;\n",
              "    }\n",
              "</style>\n",
              "<table border=\"1\" class=\"dataframe\">\n",
              "  <thead>\n",
              "    <tr style=\"text-align: right;\">\n",
              "      <th></th>\n",
              "      <th>year</th>\n",
              "      <th>month</th>\n",
              "      <th>num_fires</th>\n",
              "    </tr>\n",
              "  </thead>\n",
              "  <tbody>\n",
              "    <tr>\n",
              "      <th>78</th>\n",
              "      <td>2020</td>\n",
              "      <td>10</td>\n",
              "      <td>139</td>\n",
              "    </tr>\n",
              "    <tr>\n",
              "      <th>92</th>\n",
              "      <td>2021</td>\n",
              "      <td>12</td>\n",
              "      <td>112</td>\n",
              "    </tr>\n",
              "    <tr>\n",
              "      <th>28</th>\n",
              "      <td>2016</td>\n",
              "      <td>7</td>\n",
              "      <td>52</td>\n",
              "    </tr>\n",
              "    <tr>\n",
              "      <th>39</th>\n",
              "      <td>2017</td>\n",
              "      <td>6</td>\n",
              "      <td>43</td>\n",
              "    </tr>\n",
              "    <tr>\n",
              "      <th>101</th>\n",
              "      <td>2022</td>\n",
              "      <td>9</td>\n",
              "      <td>32</td>\n",
              "    </tr>\n",
              "  </tbody>\n",
              "</table>\n",
              "</div>\n",
              "    <div class=\"colab-df-buttons\">\n",
              "\n",
              "  <div class=\"colab-df-container\">\n",
              "    <button class=\"colab-df-convert\" onclick=\"convertToInteractive('df-892b0306-c100-484b-8e4b-71fe0c00301a')\"\n",
              "            title=\"Convert this dataframe to an interactive table.\"\n",
              "            style=\"display:none;\">\n",
              "\n",
              "  <svg xmlns=\"http://www.w3.org/2000/svg\" height=\"24px\" viewBox=\"0 -960 960 960\">\n",
              "    <path d=\"M120-120v-720h720v720H120Zm60-500h600v-160H180v160Zm220 220h160v-160H400v160Zm0 220h160v-160H400v160ZM180-400h160v-160H180v160Zm440 0h160v-160H620v160ZM180-180h160v-160H180v160Zm440 0h160v-160H620v160Z\"/>\n",
              "  </svg>\n",
              "    </button>\n",
              "\n",
              "  <style>\n",
              "    .colab-df-container {\n",
              "      display:flex;\n",
              "      gap: 12px;\n",
              "    }\n",
              "\n",
              "    .colab-df-convert {\n",
              "      background-color: #E8F0FE;\n",
              "      border: none;\n",
              "      border-radius: 50%;\n",
              "      cursor: pointer;\n",
              "      display: none;\n",
              "      fill: #1967D2;\n",
              "      height: 32px;\n",
              "      padding: 0 0 0 0;\n",
              "      width: 32px;\n",
              "    }\n",
              "\n",
              "    .colab-df-convert:hover {\n",
              "      background-color: #E2EBFA;\n",
              "      box-shadow: 0px 1px 2px rgba(60, 64, 67, 0.3), 0px 1px 3px 1px rgba(60, 64, 67, 0.15);\n",
              "      fill: #174EA6;\n",
              "    }\n",
              "\n",
              "    .colab-df-buttons div {\n",
              "      margin-bottom: 4px;\n",
              "    }\n",
              "\n",
              "    [theme=dark] .colab-df-convert {\n",
              "      background-color: #3B4455;\n",
              "      fill: #D2E3FC;\n",
              "    }\n",
              "\n",
              "    [theme=dark] .colab-df-convert:hover {\n",
              "      background-color: #434B5C;\n",
              "      box-shadow: 0px 1px 3px 1px rgba(0, 0, 0, 0.15);\n",
              "      filter: drop-shadow(0px 1px 2px rgba(0, 0, 0, 0.3));\n",
              "      fill: #FFFFFF;\n",
              "    }\n",
              "  </style>\n",
              "\n",
              "    <script>\n",
              "      const buttonEl =\n",
              "        document.querySelector('#df-892b0306-c100-484b-8e4b-71fe0c00301a button.colab-df-convert');\n",
              "      buttonEl.style.display =\n",
              "        google.colab.kernel.accessAllowed ? 'block' : 'none';\n",
              "\n",
              "      async function convertToInteractive(key) {\n",
              "        const element = document.querySelector('#df-892b0306-c100-484b-8e4b-71fe0c00301a');\n",
              "        const dataTable =\n",
              "          await google.colab.kernel.invokeFunction('convertToInteractive',\n",
              "                                                    [key], {});\n",
              "        if (!dataTable) return;\n",
              "\n",
              "        const docLinkHtml = 'Like what you see? Visit the ' +\n",
              "          '<a target=\"_blank\" href=https://colab.research.google.com/notebooks/data_table.ipynb>data table notebook</a>'\n",
              "          + ' to learn more about interactive tables.';\n",
              "        element.innerHTML = '';\n",
              "        dataTable['output_type'] = 'display_data';\n",
              "        await google.colab.output.renderOutput(dataTable, element);\n",
              "        const docLink = document.createElement('div');\n",
              "        docLink.innerHTML = docLinkHtml;\n",
              "        element.appendChild(docLink);\n",
              "      }\n",
              "    </script>\n",
              "  </div>\n",
              "\n",
              "\n",
              "    <div id=\"df-ea800570-75f9-4f7b-b41f-629f5c6b2428\">\n",
              "      <button class=\"colab-df-quickchart\" onclick=\"quickchart('df-ea800570-75f9-4f7b-b41f-629f5c6b2428')\"\n",
              "                title=\"Suggest charts\"\n",
              "                style=\"display:none;\">\n",
              "\n",
              "<svg xmlns=\"http://www.w3.org/2000/svg\" height=\"24px\"viewBox=\"0 0 24 24\"\n",
              "     width=\"24px\">\n",
              "    <g>\n",
              "        <path d=\"M19 3H5c-1.1 0-2 .9-2 2v14c0 1.1.9 2 2 2h14c1.1 0 2-.9 2-2V5c0-1.1-.9-2-2-2zM9 17H7v-7h2v7zm4 0h-2V7h2v10zm4 0h-2v-4h2v4z\"/>\n",
              "    </g>\n",
              "</svg>\n",
              "      </button>\n",
              "\n",
              "<style>\n",
              "  .colab-df-quickchart {\n",
              "      --bg-color: #E8F0FE;\n",
              "      --fill-color: #1967D2;\n",
              "      --hover-bg-color: #E2EBFA;\n",
              "      --hover-fill-color: #174EA6;\n",
              "      --disabled-fill-color: #AAA;\n",
              "      --disabled-bg-color: #DDD;\n",
              "  }\n",
              "\n",
              "  [theme=dark] .colab-df-quickchart {\n",
              "      --bg-color: #3B4455;\n",
              "      --fill-color: #D2E3FC;\n",
              "      --hover-bg-color: #434B5C;\n",
              "      --hover-fill-color: #FFFFFF;\n",
              "      --disabled-bg-color: #3B4455;\n",
              "      --disabled-fill-color: #666;\n",
              "  }\n",
              "\n",
              "  .colab-df-quickchart {\n",
              "    background-color: var(--bg-color);\n",
              "    border: none;\n",
              "    border-radius: 50%;\n",
              "    cursor: pointer;\n",
              "    display: none;\n",
              "    fill: var(--fill-color);\n",
              "    height: 32px;\n",
              "    padding: 0;\n",
              "    width: 32px;\n",
              "  }\n",
              "\n",
              "  .colab-df-quickchart:hover {\n",
              "    background-color: var(--hover-bg-color);\n",
              "    box-shadow: 0 1px 2px rgba(60, 64, 67, 0.3), 0 1px 3px 1px rgba(60, 64, 67, 0.15);\n",
              "    fill: var(--button-hover-fill-color);\n",
              "  }\n",
              "\n",
              "  .colab-df-quickchart-complete:disabled,\n",
              "  .colab-df-quickchart-complete:disabled:hover {\n",
              "    background-color: var(--disabled-bg-color);\n",
              "    fill: var(--disabled-fill-color);\n",
              "    box-shadow: none;\n",
              "  }\n",
              "\n",
              "  .colab-df-spinner {\n",
              "    border: 2px solid var(--fill-color);\n",
              "    border-color: transparent;\n",
              "    border-bottom-color: var(--fill-color);\n",
              "    animation:\n",
              "      spin 1s steps(1) infinite;\n",
              "  }\n",
              "\n",
              "  @keyframes spin {\n",
              "    0% {\n",
              "      border-color: transparent;\n",
              "      border-bottom-color: var(--fill-color);\n",
              "      border-left-color: var(--fill-color);\n",
              "    }\n",
              "    20% {\n",
              "      border-color: transparent;\n",
              "      border-left-color: var(--fill-color);\n",
              "      border-top-color: var(--fill-color);\n",
              "    }\n",
              "    30% {\n",
              "      border-color: transparent;\n",
              "      border-left-color: var(--fill-color);\n",
              "      border-top-color: var(--fill-color);\n",
              "      border-right-color: var(--fill-color);\n",
              "    }\n",
              "    40% {\n",
              "      border-color: transparent;\n",
              "      border-right-color: var(--fill-color);\n",
              "      border-top-color: var(--fill-color);\n",
              "    }\n",
              "    60% {\n",
              "      border-color: transparent;\n",
              "      border-right-color: var(--fill-color);\n",
              "    }\n",
              "    80% {\n",
              "      border-color: transparent;\n",
              "      border-right-color: var(--fill-color);\n",
              "      border-bottom-color: var(--fill-color);\n",
              "    }\n",
              "    90% {\n",
              "      border-color: transparent;\n",
              "      border-bottom-color: var(--fill-color);\n",
              "    }\n",
              "  }\n",
              "</style>\n",
              "\n",
              "      <script>\n",
              "        async function quickchart(key) {\n",
              "          const quickchartButtonEl =\n",
              "            document.querySelector('#' + key + ' button');\n",
              "          quickchartButtonEl.disabled = true;  // To prevent multiple clicks.\n",
              "          quickchartButtonEl.classList.add('colab-df-spinner');\n",
              "          try {\n",
              "            const charts = await google.colab.kernel.invokeFunction(\n",
              "                'suggestCharts', [key], {});\n",
              "          } catch (error) {\n",
              "            console.error('Error during call to suggestCharts:', error);\n",
              "          }\n",
              "          quickchartButtonEl.classList.remove('colab-df-spinner');\n",
              "          quickchartButtonEl.classList.add('colab-df-quickchart-complete');\n",
              "        }\n",
              "        (() => {\n",
              "          let quickchartButtonEl =\n",
              "            document.querySelector('#df-ea800570-75f9-4f7b-b41f-629f5c6b2428 button');\n",
              "          quickchartButtonEl.style.display =\n",
              "            google.colab.kernel.accessAllowed ? 'block' : 'none';\n",
              "        })();\n",
              "      </script>\n",
              "    </div>\n",
              "\n",
              "  <div id=\"id_943944a4-d2ce-4b64-919e-e192b6fe5269\">\n",
              "    <style>\n",
              "      .colab-df-generate {\n",
              "        background-color: #E8F0FE;\n",
              "        border: none;\n",
              "        border-radius: 50%;\n",
              "        cursor: pointer;\n",
              "        display: none;\n",
              "        fill: #1967D2;\n",
              "        height: 32px;\n",
              "        padding: 0 0 0 0;\n",
              "        width: 32px;\n",
              "      }\n",
              "\n",
              "      .colab-df-generate:hover {\n",
              "        background-color: #E2EBFA;\n",
              "        box-shadow: 0px 1px 2px rgba(60, 64, 67, 0.3), 0px 1px 3px 1px rgba(60, 64, 67, 0.15);\n",
              "        fill: #174EA6;\n",
              "      }\n",
              "\n",
              "      [theme=dark] .colab-df-generate {\n",
              "        background-color: #3B4455;\n",
              "        fill: #D2E3FC;\n",
              "      }\n",
              "\n",
              "      [theme=dark] .colab-df-generate:hover {\n",
              "        background-color: #434B5C;\n",
              "        box-shadow: 0px 1px 3px 1px rgba(0, 0, 0, 0.15);\n",
              "        filter: drop-shadow(0px 1px 2px rgba(0, 0, 0, 0.3));\n",
              "        fill: #FFFFFF;\n",
              "      }\n",
              "    </style>\n",
              "    <button class=\"colab-df-generate\" onclick=\"generateWithVariable('top5_fires')\"\n",
              "            title=\"Generate code using this dataframe.\"\n",
              "            style=\"display:none;\">\n",
              "\n",
              "  <svg xmlns=\"http://www.w3.org/2000/svg\" height=\"24px\"viewBox=\"0 0 24 24\"\n",
              "       width=\"24px\">\n",
              "    <path d=\"M7,19H8.4L18.45,9,17,7.55,7,17.6ZM5,21V16.75L18.45,3.32a2,2,0,0,1,2.83,0l1.4,1.43a1.91,1.91,0,0,1,.58,1.4,1.91,1.91,0,0,1-.58,1.4L9.25,21ZM18.45,9,17,7.55Zm-12,3A5.31,5.31,0,0,0,4.9,8.1,5.31,5.31,0,0,0,1,6.5,5.31,5.31,0,0,0,4.9,4.9,5.31,5.31,0,0,0,6.5,1,5.31,5.31,0,0,0,8.1,4.9,5.31,5.31,0,0,0,12,6.5,5.46,5.46,0,0,0,6.5,12Z\"/>\n",
              "  </svg>\n",
              "    </button>\n",
              "    <script>\n",
              "      (() => {\n",
              "      const buttonEl =\n",
              "        document.querySelector('#id_943944a4-d2ce-4b64-919e-e192b6fe5269 button.colab-df-generate');\n",
              "      buttonEl.style.display =\n",
              "        google.colab.kernel.accessAllowed ? 'block' : 'none';\n",
              "\n",
              "      buttonEl.onclick = () => {\n",
              "        google.colab.notebook.generateWithVariable('top5_fires');\n",
              "      }\n",
              "      })();\n",
              "    </script>\n",
              "  </div>\n",
              "\n",
              "    </div>\n",
              "  </div>\n"
            ],
            "application/vnd.google.colaboratory.intrinsic+json": {
              "type": "dataframe",
              "variable_name": "top5_fires",
              "summary": "{\n  \"name\": \"top5_fires\",\n  \"rows\": 5,\n  \"fields\": [\n    {\n      \"column\": \"year\",\n      \"properties\": {\n        \"dtype\": \"int32\",\n        \"num_unique_values\": 5,\n        \"samples\": [\n          2021,\n          2022,\n          2016\n        ],\n        \"semantic_type\": \"\",\n        \"description\": \"\"\n      }\n    },\n    {\n      \"column\": \"month\",\n      \"properties\": {\n        \"dtype\": \"int32\",\n        \"num_unique_values\": 5,\n        \"samples\": [\n          12,\n          9,\n          7\n        ],\n        \"semantic_type\": \"\",\n        \"description\": \"\"\n      }\n    },\n    {\n      \"column\": \"num_fires\",\n      \"properties\": {\n        \"dtype\": \"number\",\n        \"std\": 47,\n        \"min\": 32,\n        \"max\": 139,\n        \"num_unique_values\": 5,\n        \"samples\": [\n          112,\n          32,\n          52\n        ],\n        \"semantic_type\": \"\",\n        \"description\": \"\"\n      }\n    }\n  ]\n}"
            }
          },
          "metadata": {},
          "execution_count": 105
        }
      ]
    },
    {
      "cell_type": "markdown",
      "source": [
        "### Feature Correlation"
      ],
      "metadata": {
        "id": "a08he2Y5crAy"
      }
    },
    {
      "cell_type": "markdown",
      "source": [
        "#### TAVG by Fire Occurrence"
      ],
      "metadata": {
        "id": "Kie6_FjfhtL2"
      }
    },
    {
      "cell_type": "code",
      "source": [
        "plt.figure(figsize=(5,3))\n",
        "sns.boxplot(x=fire_flag, y=full_df['TAVG'])\n",
        "plt.title('TAVG by Fire Occurrence')\n",
        "plt.show()"
      ],
      "metadata": {
        "colab": {
          "base_uri": "https://localhost:8080/",
          "height": 333
        },
        "id": "tREG2jzHcyjo",
        "outputId": "c0cf9e38-dea3-4ac1-ba85-1cf587738c60"
      },
      "execution_count": 106,
      "outputs": [
        {
          "output_type": "display_data",
          "data": {
            "text/plain": [
              "<Figure size 500x300 with 1 Axes>"
            ],
            "image/png": "[encoded data removed]"
          },
          "metadata": {}
        }
      ]
    },
    {
      "cell_type": "markdown",
      "source": [
        "**TAVG by Fire Occurrence:** Fire days generally occur at higher temperatures, as indicated by the higher median TAVG. The interquartile range is narrower on fire days, suggesting that extreme temperature values are less variable when fires occur."
      ],
      "metadata": {
        "id": "hTYKjHcQd8Qw"
      }
    },
    {
      "cell_type": "markdown",
      "source": [
        "#### Average NDVI by Fire Occurrence"
      ],
      "metadata": {
        "id": "eKqy8Ss9h7J3"
      }
    },
    {
      "cell_type": "code",
      "source": [
        "plt.figure(figsize=(5,3))\n",
        "sns.boxplot(x=fire_flag, y=full_df['NDVI_Mean'])\n",
        "plt.title('Average NDVI by Fire Occurrence')\n",
        "plt.show()"
      ],
      "metadata": {
        "colab": {
          "base_uri": "https://localhost:8080/",
          "height": 333
        },
        "id": "MvyXI4zwdVOG",
        "outputId": "612cff33-c2ac-4d2b-8b06-dbbfbebae929"
      },
      "execution_count": 107,
      "outputs": [
        {
          "output_type": "display_data",
          "data": {
            "text/plain": [
              "<Figure size 500x300 with 1 Axes>"
            ],
            "image/png": "[encoded data removed]"
          },
          "metadata": {}
        }
      ]
    },
    {
      "cell_type": "markdown",
      "source": [
        "**Average NDVI by Fire Occurrence:** NDVI values indicate denser, healthier vegetation, providing more fuel for wildfires. During the fire season, areas with high NDVI combined with dry conditions and warm temperatures may have elevated fire risk."
      ],
      "metadata": {
        "id": "LAJgOluLeHp5"
      }
    },
    {
      "cell_type": "markdown",
      "source": [
        "#### DSCI by Fire Occurrence"
      ],
      "metadata": {
        "id": "IupNukyyewx7"
      }
    },
    {
      "cell_type": "code",
      "source": [
        "plt.figure(figsize=(5,3))\n",
        "sns.boxplot(x=fire_flag, y=full_df['DSCI'])\n",
        "plt.title('Average NDVI by Fire Occurrence')\n",
        "plt.show()"
      ],
      "metadata": {
        "colab": {
          "base_uri": "https://localhost:8080/",
          "height": 333
        },
        "id": "tAwdbe25fNiy",
        "outputId": "b6b7fbd2-cc5f-4e39-bd4e-36b83f7402ee"
      },
      "execution_count": 108,
      "outputs": [
        {
          "output_type": "display_data",
          "data": {
            "text/plain": [
              "<Figure size 500x300 with 1 Axes>"
            ],
            "image/png": "[encoded data removed]"
          },
          "metadata": {}
        }
      ]
    },
    {
      "cell_type": "markdown",
      "source": [
        "**DSCI by Fire Occurrence:** Interestingly, fire days in this dataset tend to have lower DSCI values, despite higher values indicating more drought. This may reflect that fires require both dry conditions and sufficient vegetation to act as fuel, so extremely high drought regions may have less combustible material, while moderately dry areas are more fire-prone."
      ],
      "metadata": {
        "id": "uAYl04cXezGG"
      }
    },
    {
      "cell_type": "markdown",
      "source": [
        "---\n",
        "## **Feature Engineering**\n",
        "\n",
        "This section creates derived features to capture temporal trends, anomalies, and seasonality in wildfire drivers.  \n"
      ],
      "metadata": {
        "id": "ZlOUQ59Gy1KS"
      }
    },
    {
      "cell_type": "markdown",
      "source": [
        "### Rolling Features\n",
        "Capture short-term weather and fire dynamics using rolling means and sums.\n",
        "\n",
        "\n"
      ],
      "metadata": {
        "id": "ivSC9k2ylGe5"
      }
    },
    {
      "cell_type": "code",
      "source": [
        "# 7-day average of temperature\n",
        "full_df['TAVG_week_avg'] = full_df['TAVG'].rolling(window=7).mean().shift(1)\n",
        "\n",
        "# Sum of fires in the past week\n",
        "full_df['num_fires_pastweek'] = full_df['num_fires'].rolling(window=7).sum().shift(1)\n",
        "\n",
        "# 3-day rolling average of the interaction bewteen average temperature and average wind\n",
        "full_df['TAVGxAWND'] = (full_df['TAVG'] * full_df['AWND']).rolling(window=3).mean().shift(1)\n",
        "\n",
        "# 7-day and 30-day rolling sum of precipitation\n",
        "# Both 7-day and 30-day features were included to capture short term and long term patterns\n",
        "full_df['PRCP_7_sum'] = full_df['PRCP'].rolling(window=7).sum()\n",
        "full_df['PRCP_30_sum'] = full_df['PRCP'].rolling(window=7).sum()"
      ],
      "metadata": {
        "id": "9Pmei9ISlKNq"
      },
      "execution_count": 109,
      "outputs": []
    },
    {
      "cell_type": "markdown",
      "source": [
        "### Anomaly Features\n",
        "Highlight unusual weather conditions by comparing daily values to historical averages.\n"
      ],
      "metadata": {
        "id": "_FDOpZQ2vuEf"
      }
    },
    {
      "cell_type": "code",
      "source": [
        "# Extract day of year from 'DATE' to find historical precipitation means\n",
        "full_df['doy'] = full_df['DATE'].dt.day\n",
        "\n",
        "# Find historical precipitation means and map them to their respective 'doy'\n",
        "climatology_7 = full_df.groupby('doy')['PRCP_7_sum'].mean()\n",
        "climatology_30 = full_df.groupby('doy')['PRCP_30_sum'].mean()\n",
        "\n",
        "# Compute precipitation anomalies by subtracting climatological means\n",
        "full_df['anom_PRCP_7'] = full_df['PRCP_7_sum'] - full_df['doy'].map(climatology_7)\n",
        "full_df['anom_PRCP_30'] = full_df['PRCP_30_sum'] - full_df['doy'].map(climatology_30)"
      ],
      "metadata": {
        "id": "3wMSRhb7vzCu"
      },
      "execution_count": 110,
      "outputs": []
    },
    {
      "cell_type": "markdown",
      "source": [
        "### Interval Features\n",
        "Impute missing data created by satellite data collection (7/16 day intervals)."
      ],
      "metadata": {
        "id": "1goQiK8EllAf"
      }
    },
    {
      "cell_type": "code",
      "source": [
        "interval_features = ['evi_min', 'evi_max', 'evi_mean', 'evi_standard_deviation',\n",
        "            'NDVI_Mean', 'NDVI_Variance', 'DSCI']\n",
        "\n",
        "# Forward fill missing values for interval data (carry last known observation until the next update)\n",
        "# Lag by 1 to prevent data leakage\n",
        "full_df[interval_features] = full_df[interval_features].ffill().shift(1)\n",
        "\n",
        "# Impute the first 7 rows of DSCI data with the intital DSCI value\n",
        "# (the first drought value on 2013-12-31 was cutoff by the date range of 'full_df')\n",
        "first_drought = drought_data_filtered['DSCI'].iloc[0]\n",
        "full_df.loc[:7, 'DSCI'] = first_drought"
      ],
      "metadata": {
        "id": "ZP5ccrehllnS"
      },
      "execution_count": 111,
      "outputs": []
    },
    {
      "cell_type": "markdown",
      "source": [
        "### Lagged Wind Features\n",
        "Prevent data leakage by lagging wind variables."
      ],
      "metadata": {
        "id": "kCRBOhWUyE3e"
      }
    },
    {
      "cell_type": "code",
      "source": [
        "# Maximum wind speed in any 5-second period, lagged to prevent leakage\n",
        "full_df['WSF5_SHIFT'] = full_df['WSF5'].shift(1)\n",
        "\n",
        "# Average wind on a given day, lagged to prevent leakage\n",
        "full_df['AWND_SHIFT'] = full_df['AWND'].shift(1)"
      ],
      "metadata": {
        "id": "KaUmPTNwyGYD"
      },
      "execution_count": 112,
      "outputs": []
    },
    {
      "cell_type": "markdown",
      "source": [
        "### Temporal Features\n",
        "Encode time-based features to capture seasonality."
      ],
      "metadata": {
        "id": "6jbTkLN9zn7x"
      }
    },
    {
      "cell_type": "code",
      "source": [
        "# Extract the month of each date\n",
        "full_df['month'] = full_df['DATE'].dt.month\n",
        "\n",
        "# Cyclical encoding of the month variable using sine and cosine transformations\n",
        "# This preserves seasonality by mapping months on the unit circle\n",
        "# (e.g., December is close to January even though 12>>1)\n",
        "full_df['feature_sine'] = np.sin(2* np.pi * (full_df['month']/12))\n",
        "full_df['feature_cos'] = np.cos(2* np.pi * (full_df['month']/12))"
      ],
      "metadata": {
        "id": "DELkqJrDzoii"
      },
      "execution_count": 113,
      "outputs": []
    },
    {
      "cell_type": "markdown",
      "source": [
        "### Dataset Cleaning:\n",
        "Remove intermediate columns and missing values created by the rolling features."
      ],
      "metadata": {
        "id": "EqMcUvS06pZI"
      }
    },
    {
      "cell_type": "code",
      "source": [
        "# Drop first 7 rows with NaNs from rolling features\n",
        "full_df = full_df.drop(full_df.index[:7])\n",
        "\n",
        "# Remove Raw inputs columns\n",
        "full_df = full_df.drop(['PRCP', 'AWND', 'WSF2', 'TAVG', 'WSF5'], axis = 1)"
      ],
      "metadata": {
        "id": "ZkR58SPiy53C"
      },
      "execution_count": 114,
      "outputs": []
    },
    {
      "cell_type": "markdown",
      "source": [
        "---\n",
        "## **Model Setup**\n",
        "Define the machine learning model, training parameters, and evaluation strategy used for wildfire prediction.\n",
        "\n",
        "This section presents the baseline and intermediate models, highlighting how class imbalance is addressed through target engineering."
      ],
      "metadata": {
        "id": "aet4G0JozVu5"
      }
    },
    {
      "cell_type": "markdown",
      "source": [
        "### **Baseline Model**\n",
        "Uses engineered features without target adjustments for class imbalance."
      ],
      "metadata": {
        "id": "2J-xg9gyjOFN"
      }
    },
    {
      "cell_type": "markdown",
      "source": [
        "#### Define Model Input (features) and Output (target) Variables\n",
        "`X` contains all engineered predictor variables.\n",
        "\n",
        "`y` is a binary target indicating fire occurance on a given day.\n",
        "\n"
      ],
      "metadata": {
        "id": "oQiO-yie7sso"
      }
    },
    {
      "cell_type": "code",
      "source": [
        "# Define the target variable\n",
        "# Binary indicator of whether or not there is a fire on a given day\n",
        "full_df['is_fire'] = (full_df['num_fires'] > 0).astype(int)\n",
        "\n",
        "# Define features\n",
        "features = ['TAVG_week_avg',\n",
        "            'AWND_SHIFT', 'num_fires_pastweek',\n",
        "             'TAVGxAWND', 'WSF5_SHIFT',\n",
        "            'feature_sine', 'feature_cos',\n",
        "            'evi_min', 'evi_max', 'evi_mean',  'evi_standard_deviation',\n",
        "            'DSCI', 'PRCP_7_sum', 'PRCP_30_sum', 'anom_PRCP_7', 'anom_PRCP_30',\n",
        "            'NDVI_Mean', 'NDVI_Variance'\n",
        "            ]\n",
        "\n",
        "X = full_df[features]\n",
        "y = full_df['is_fire']"
      ],
      "metadata": {
        "id": "CKxdkhL3mPjJ"
      },
      "execution_count": 115,
      "outputs": []
    },
    {
      "cell_type": "markdown",
      "source": [
        "#### Split Data Using 'train_test_split' to Create Training and Validation Data\n",
        "`test_size` is set to 0.2 to have 80% of the original data as training data.\n",
        "\n",
        "`shuffle` is set to `False` to preserve the temporal aspect of the data."
      ],
      "metadata": {
        "id": "uxD9puBb8iZ2"
      }
    },
    {
      "cell_type": "code",
      "source": [
        "X_train, X_val, y_train, y_val = train_test_split(X,y, test_size =0.2, shuffle = False)"
      ],
      "metadata": {
        "id": "3GCCweBz8ih6"
      },
      "execution_count": 116,
      "outputs": []
    },
    {
      "cell_type": "markdown",
      "source": [
        "#### Calculate `scale_pos_weight` for Imbalanced Data."
      ],
      "metadata": {
        "id": "uOWsLk_BANcM"
      }
    },
    {
      "cell_type": "code",
      "source": [
        "neg = np.sum(y_train == 0)\n",
        "pos = np.sum(y_train == 1)\n",
        "\n",
        "scale_pos_weight = neg/pos"
      ],
      "metadata": {
        "id": "JIoLT-CiAr3D"
      },
      "execution_count": 117,
      "outputs": []
    },
    {
      "cell_type": "markdown",
      "source": [
        "#### Define XGBoost Model\n",
        "Using `XGBClassifier` model with parameters chosen to balance learning stability and generalization."
      ],
      "metadata": {
        "id": "OKF2W57ZBnJg"
      }
    },
    {
      "cell_type": "code",
      "source": [
        "base_model = XGBClassifier(\n",
        "    n_estimators = 500,                # number of trees\n",
        "    learning_rate = 0.05,              # step size shrinkage to prevent overfitting\n",
        "    early_stopping_rounds = 20,        # stop if eval metric doesn't improve\n",
        "    eval_metric = 'auc',               # metric for early stopping\n",
        "    scale_pos_weight=scale_pos_weight, # balances the positive and negative classes; helps handle imbalance\n",
        "    max_depth = 5,                     # deeper trees capture complex patterns but risk overfitting\n",
        "    subsample = 0.3,                   # small fraction to reduce overfitting and improve generalization\n",
        "    random_state = 42,                 # ensures reproducibility\n",
        "    )"
      ],
      "metadata": {
        "id": "KBPLIdMXA19I"
      },
      "execution_count": 118,
      "outputs": []
    },
    {
      "cell_type": "markdown",
      "source": [
        "#### Train Model"
      ],
      "metadata": {
        "id": "i_FCTI8WDAR-"
      }
    },
    {
      "cell_type": "code",
      "source": [
        "base_model.fit(X_train,\n",
        "             y_train,\n",
        "             eval_set = [(X_val, y_val)], # Used for auc evaluation for early stopping\n",
        "             verbose = False\n",
        "             )"
      ],
      "metadata": {
        "id": "qWLSbpMZDDyI"
      },
      "execution_count": null,
      "outputs": []
    },
    {
      "cell_type": "markdown",
      "source": [
        "#### Classification Report"
      ],
      "metadata": {
        "id": "ZqYlgKeRkj55"
      }
    },
    {
      "cell_type": "code",
      "source": [
        "y_base_preds = base_model.predict(X_val)\n",
        "print(classification_report(y_val, y_base_preds))"
      ],
      "metadata": {
        "colab": {
          "base_uri": "https://localhost:8080/"
        },
        "id": "IrOnnr8Zm2Kw",
        "outputId": "87e0ac59-a789-46d9-fefe-e70577758bb9"
      },
      "execution_count": 120,
      "outputs": [
        {
          "output_type": "stream",
          "name": "stdout",
          "text": [
            "              precision    recall  f1-score   support\n",
            "\n",
            "           0       0.87      0.84      0.85       644\n",
            "           1       0.38      0.45      0.41       141\n",
            "\n",
            "    accuracy                           0.77       785\n",
            "   macro avg       0.62      0.64      0.63       785\n",
            "weighted avg       0.78      0.77      0.77       785\n",
            "\n"
          ]
        }
      ]
    },
    {
      "cell_type": "markdown",
      "source": [
        "The baseline model achieves relatively high overall accuracy (0.77), but the minority class (fires) has low F1 (0.41). This indicates that the model mostly predicts the majority class (no fire), so accuracy is misleadingly high due to class imbalance."
      ],
      "metadata": {
        "id": "Aa-4jwhqn9dx"
      }
    },
    {
      "cell_type": "markdown",
      "source": [
        "### **Intermediate Model**\n",
        "The intermediate model builds on the base model by using an engineered target to handle class imbalance. All inputs and model parameters were kept the same."
      ],
      "metadata": {
        "id": "Wobvj8gFoSV8"
      }
    },
    {
      "cell_type": "markdown",
      "source": [
        "#### Target Creation\n",
        "Define the wildfire occurance target variable. A binary indicator of whether a fire occurs in the next 7 days."
      ],
      "metadata": {
        "id": "aiOuC-O6o3yV"
      }
    },
    {
      "cell_type": "code",
      "source": [
        "# Contructed by shifting 'num_fires' backwards to align with future events,\n",
        "# then applying a rolling sum and converting to 1 (fire) or 0 (no fire)\n",
        "full_df['fire_future_week'] = (\n",
        "    full_df['num_fires'].shift(-6)\n",
        "   .rolling(window=7, min_periods=1)\n",
        "   .sum() > 0).astype(int)"
      ],
      "metadata": {
        "id": "lPjr2nYio4uK"
      },
      "execution_count": 121,
      "outputs": []
    },
    {
      "cell_type": "markdown",
      "source": [
        "#### Define Model Input and Output Variables"
      ],
      "metadata": {
        "id": "NyB1vUqhpE8t"
      }
    },
    {
      "cell_type": "code",
      "source": [
        "features = ['TAVG_week_avg',\n",
        "            'AWND_SHIFT', 'num_fires_pastweek',\n",
        "             'TAVGxAWND', 'WSF5_SHIFT',\n",
        "            'feature_sine', 'feature_cos',\n",
        "            'evi_min', 'evi_max', 'evi_mean',  'evi_standard_deviation',\n",
        "            'DSCI', 'PRCP_7_sum', 'PRCP_30_sum', 'anom_PRCP_7', 'anom_PRCP_30',\n",
        "            'NDVI_Mean', 'NDVI_Variance'\n",
        "            ]\n",
        "\n",
        "X = full_df[features]\n",
        "y = full_df['fire_future_week']"
      ],
      "metadata": {
        "id": "_mQ71LViotux"
      },
      "execution_count": 122,
      "outputs": []
    },
    {
      "cell_type": "markdown",
      "source": [
        "#### Define and Fit Model"
      ],
      "metadata": {
        "id": "LTFGtHapp1Pl"
      }
    },
    {
      "cell_type": "code",
      "source": [
        "# Split Data\n",
        "X_train, X_val, y_train, y_val = train_test_split(X,y, test_size =0.2, shuffle = False)\n",
        "\n",
        "# Calculate scale_pos_weight parameter\n",
        "neg = np.sum(y_train == 0)\n",
        "pos = np.sum(y_train == 1)\n",
        "scale_pos_weight = neg/pos\n",
        "\n",
        "# Define model\n",
        "intermediate_model = XGBClassifier(\n",
        "    n_estimators = 500,\n",
        "    learning_rate = 0.05,\n",
        "    early_stopping_rounds = 20,\n",
        "    eval_metric = 'auc',\n",
        "    scale_pos_weight=scale_pos_weight,\n",
        "    max_depth = 5,\n",
        "    subsample = 0.3,\n",
        "    random_state = 42,\n",
        "    )\n",
        "\n",
        "# Fit model\n",
        "intermediate_model.fit(X_train,\n",
        "             y_train,\n",
        "             eval_set = [(X_val, y_val)],\n",
        "             verbose = False\n",
        "             )"
      ],
      "metadata": {
        "id": "NVNRe2xRpdxi"
      },
      "execution_count": null,
      "outputs": []
    },
    {
      "cell_type": "markdown",
      "source": [
        "#### Classification Report"
      ],
      "metadata": {
        "id": "xV0uOD4CtsWK"
      }
    },
    {
      "cell_type": "code",
      "source": [
        "y_int_preds = intermediate_model.predict(X_val)\n",
        "print(classification_report(y_val, y_int_preds))"
      ],
      "metadata": {
        "colab": {
          "base_uri": "https://localhost:8080/"
        },
        "id": "1OTLhltDpf6u",
        "outputId": "4a46bd45-21bd-4c49-8b7d-b106d7302bba"
      },
      "execution_count": 124,
      "outputs": [
        {
          "output_type": "stream",
          "name": "stdout",
          "text": [
            "              precision    recall  f1-score   support\n",
            "\n",
            "           0       0.62      0.70      0.66       317\n",
            "           1       0.78      0.71      0.74       468\n",
            "\n",
            "    accuracy                           0.71       785\n",
            "   macro avg       0.70      0.71      0.70       785\n",
            "weighted avg       0.71      0.71      0.71       785\n",
            "\n"
          ]
        }
      ]
    },
    {
      "cell_type": "markdown",
      "source": [
        "After target engineering, performance for the majority class (previously minority class) improves substantially (0.41 -> 0.74), with more balanced precision and recall across classes. Overall accuracy decreases slightly (0.77 -> 0.71) because the model now better represents rare fire events."
      ],
      "metadata": {
        "id": "z1C5_GZntEwl"
      }
    },
    {
      "cell_type": "markdown",
      "source": [
        "Class distribution also improves significantly after target engineering, going from a 20/80% class split to a 60/40% class split."
      ],
      "metadata": {
        "id": "6fgR3_skuYF5"
      }
    },
    {
      "cell_type": "code",
      "source": [
        "class_counts = full_df['fire_future_week'].value_counts().sort_index()\n",
        "\n",
        "# Plot\n",
        "plt.figure(figsize=(5,4))\n",
        "class_counts.plot(kind='bar', color=['royalblue', 'tomato'])\n",
        "plt.xticks([0,1], ['0 (no fire)', '1 (fire)'], rotation=0)\n",
        "plt.ylabel(\"Number of Cases\")\n",
        "plt.xlabel(\"Classes\")\n",
        "plt.title(\"Target Distribution: Fire vs No Fire\")\n",
        "plt.show()"
      ],
      "metadata": {
        "colab": {
          "base_uri": "https://localhost:8080/",
          "height": 410
        },
        "id": "zQ_jqiWajETI",
        "outputId": "4f7f6938-2a82-48ae-cf0f-e20be105cbd4"
      },
      "execution_count": 126,
      "outputs": [
        {
          "output_type": "display_data",
          "data": {
            "text/plain": [
              "<Figure size 500x400 with 1 Axes>"
            ],
            "image/png": "[encoded data removed]"
          },
          "metadata": {}
        }
      ]
    },
    {
      "cell_type": "markdown",
      "source": [
        "---\n",
        "## **Model Evaluation**\n",
        "This section evaluates model performance beyond initial training by tuning decision thresholds, checking for overfitting, and comparing models."
      ],
      "metadata": {
        "id": "1mYdNWEIDe9c"
      }
    },
    {
      "cell_type": "markdown",
      "source": [
        "### **Decision Threshold Tuning**\n",
        "To optimize performance on both classes, I tune the classification threshold from the default value of 0.5. Threshold tuning is done with the `average = weighted` parameter to account for both minority and majority class F1 scores."
      ],
      "metadata": {
        "id": "kn7dyJLPYDII"
      }
    },
    {
      "cell_type": "markdown",
      "source": [
        "#### Model Prediction\n",
        "\n",
        "- Predict probabilities for the postive class (fire).\n",
        "- `predict_proba` returns probabilities between 0 and 1.\n",
        "- These will be used to optimize the model threshold.\n"
      ],
      "metadata": {
        "id": "xpIf-eugDg0s"
      }
    },
    {
      "cell_type": "code",
      "source": [
        "pred_probs = intermediate_model.predict_proba(X_val)[:, 1]"
      ],
      "metadata": {
        "id": "Bhl6E1NCEjSU"
      },
      "execution_count": 127,
      "outputs": []
    },
    {
      "cell_type": "markdown",
      "source": [
        "#### Define Threshold Range and Prepare to Track F1 Scores\n",
        "- Create a range of thresholds to test.\n",
        "- Create an empty list to store f1 scores.\n",
        "\n",
        "\n",
        "**Note**\n",
        "\n",
        "Orginally, I tested thresholds from 0 to 1 in steps of 0.01. For a more precise estimate of the best threshold, I narrowed the range to 0.45-0.50 in steps of 0.001."
      ],
      "metadata": {
        "id": "gWavL1C1EnUZ"
      }
    },
    {
      "cell_type": "code",
      "source": [
        "thresholds = np.arange(0.45, 0.51, 0.001)\n",
        "f1_scores = []"
      ],
      "metadata": {
        "id": "hrMmVksVGO04"
      },
      "execution_count": 128,
      "outputs": []
    },
    {
      "cell_type": "markdown",
      "source": [
        "#### Loop Over Thresholds to Compute F1 Scores\n",
        "- For each threshold, convert probabilities into binary values and calculate the weighted average F1 score on validation data.\n",
        "\n",
        "\n",
        "The weighted F1 score takes into account both the postive and negative class F1 scores, instead of just the positive class.\n",
        "This allows me to optimize the model's ability to predict both classes."
      ],
      "metadata": {
        "id": "JV038op8GdhM"
      }
    },
    {
      "cell_type": "code",
      "source": [
        "for threshold in thresholds:\n",
        "  y_preds = (pred_probs >= threshold).astype(int)\n",
        "  score = f1_score(y_val, y_preds, average='macro')\n",
        "  f1_scores.append(score)"
      ],
      "metadata": {
        "id": "l6Z7Y7GrIWmD"
      },
      "execution_count": 129,
      "outputs": []
    },
    {
      "cell_type": "markdown",
      "source": [
        "#### Find Best Threshold\n",
        "Identify which threshold yieled the highest weighted F1 score."
      ],
      "metadata": {
        "id": "LvlSUzlJIaRj"
      }
    },
    {
      "cell_type": "code",
      "source": [
        "best_idx = np.argmax(f1_scores)\n",
        "best_threshold = thresholds[best_idx]\n",
        "print(f'Best Threshold: {best_threshold}')"
      ],
      "metadata": {
        "id": "FRGMEP9MIjqx",
        "colab": {
          "base_uri": "https://localhost:8080/"
        },
        "outputId": "738f398f-3a43-42f1-8021-a86cd3101d90"
      },
      "execution_count": 130,
      "outputs": [
        {
          "output_type": "stream",
          "name": "stdout",
          "text": [
            "Best Threshold: 0.48900000000000005\n"
          ]
        }
      ]
    },
    {
      "cell_type": "markdown",
      "source": [
        "#### Evaluate Final Predictions\n",
        "Use the best threshold to convert probabilities into binary predictions and evaluate the classification metrics."
      ],
      "metadata": {
        "id": "dPqgo-LUIzTV"
      }
    },
    {
      "cell_type": "code",
      "source": [
        "y_tuned_preds = (pred_probs >= best_threshold).astype(int)\n",
        "print(classification_report(y_val, y_tuned_preds))"
      ],
      "metadata": {
        "id": "M--d5r1azWmW",
        "colab": {
          "base_uri": "https://localhost:8080/"
        },
        "outputId": "8ecf7341-1941-4f81-c290-8e73fc25db0d"
      },
      "execution_count": 131,
      "outputs": [
        {
          "output_type": "stream",
          "name": "stdout",
          "text": [
            "              precision    recall  f1-score   support\n",
            "\n",
            "           0       0.65      0.65      0.65       317\n",
            "           1       0.76      0.76      0.76       468\n",
            "\n",
            "    accuracy                           0.72       785\n",
            "   macro avg       0.70      0.70      0.70       785\n",
            "weighted avg       0.72      0.72      0.72       785\n",
            "\n"
          ]
        }
      ]
    },
    {
      "cell_type": "markdown",
      "source": [
        "Although there were minimal changes in F1 scores for both classes, threshold tuning improved the balance between precision and recall, decreasing the amount of false negatives in the positive class. This is especially important in wildfire forecasting, as false negatives are significantly more costly than false positives."
      ],
      "metadata": {
        "id": "TezVPHs9ZSgm"
      }
    },
    {
      "cell_type": "markdown",
      "source": [
        "### **Overfitting Check**\n",
        "I compare training and validation performance to assess generalization."
      ],
      "metadata": {
        "id": "S-O_sw8jJ6gR"
      }
    },
    {
      "cell_type": "code",
      "source": [
        "# Get predictions and classification report for training data based on the best threshold\n",
        "y_train_pred = (intermediate_model.predict_proba(X_train)[:, 1] >= best_threshold).astype(int)\n",
        "print(classification_report(y_train, y_train_pred))"
      ],
      "metadata": {
        "colab": {
          "base_uri": "https://localhost:8080/"
        },
        "id": "Nd-qMAcI-_J2",
        "outputId": "e1908be3-b019-4611-d81f-9bec124cdd19"
      },
      "execution_count": 132,
      "outputs": [
        {
          "output_type": "stream",
          "name": "stdout",
          "text": [
            "              precision    recall  f1-score   support\n",
            "\n",
            "           0       0.68      0.74      0.71      1309\n",
            "           1       0.80      0.75      0.77      1827\n",
            "\n",
            "    accuracy                           0.75      3136\n",
            "   macro avg       0.74      0.75      0.74      3136\n",
            "weighted avg       0.75      0.75      0.75      3136\n",
            "\n"
          ]
        }
      ]
    },
    {
      "cell_type": "markdown",
      "source": [
        "The difference in F1 scores was small (~0.06 for the minority class and ~0.01 for the majority class), suggesting minimal overfitting. This indicates that the model generalizes to unseen data fairly well."
      ],
      "metadata": {
        "id": "YoIrbTJ1Klkf"
      }
    },
    {
      "cell_type": "markdown",
      "source": [
        "### **Model Comparison Visual**\n",
        "I compare precision, recall, and F1 scores across both positive and negative classes for the baseline, intermediate, and threshold-tuned models, visualized in a heatmap to highlight performance differences.\n",
        "\n"
      ],
      "metadata": {
        "id": "nyntGRG9klxy"
      }
    },
    {
      "cell_type": "code",
      "source": [
        "# Get metrics in dictionary form\n",
        "baseline_report = classification_report(y_val, y_base_preds, output_dict=True)\n",
        "intermediate_report = classification_report(y_val, y_int_preds, output_dict=True)\n",
        "tuned_report = classification_report(y_val, y_tuned_preds, output_dict=True)\n",
        "\n",
        "# Extract per-class metrics\n",
        "def extract_per_class(report, classes=['0','1']):\n",
        "    metrics = {}\n",
        "    for cls in classes:\n",
        "        metrics[f'Precision_{cls}'] = report[cls]['precision']\n",
        "        metrics[f'Recall_{cls}'] = report[cls]['recall']\n",
        "        metrics[f'F1_{cls}'] = report[cls]['f1-score']\n",
        "    return metrics\n",
        "\n",
        "# Create a DataFrame with metrics as rows and models as columns\n",
        "data = pd.DataFrame({\n",
        "    'Baseline': extract_per_class(baseline_report),\n",
        "    'Intermediate': extract_per_class(intermediate_report),\n",
        "    'Threshold Tuned': extract_per_class(tuned_report)\n",
        "})\n",
        "\n",
        "# Plot heatmap\n",
        "plt.figure(figsize=(8,6))\n",
        "sns.heatmap(data, annot=True, fmt=\".3f\", cmap=\"YlGnBu\", cbar_kws={'label':'Score'})\n",
        "plt.title(\"Per-Class Model Comparison: Precision, Recall, F1\")\n",
        "plt.ylabel(\"Metric\")\n",
        "plt.show()"
      ],
      "metadata": {
        "colab": {
          "base_uri": "https://localhost:8080/",
          "height": 545
        },
        "id": "qn1ZSBQWjq3d",
        "outputId": "90fef248-0818-4528-9108-1afa0a410275"
      },
      "execution_count": 133,
      "outputs": [
        {
          "output_type": "display_data",
          "data": {
            "text/plain": [
              "<Figure size 800x600 with 2 Axes>"
            ],
            "image/png": "[encoded data removed]"
          },
          "metadata": {}
        }
      ]
    },
    {
      "cell_type": "markdown",
      "source": [
        "Baseline scores show inflated Recall_0 and Precision_1 due to the imbalanced target data, where the model over-predicted the negative class. This resulted in a low F1 score for the positive class (fire). The intermediate model, with an engineered target, reduced imbalance and substantially improved metrics across both classes. Threshold tuning then traded a small drop in negative-class performance for a meaningful gain in positive-class recall, reducing false negatives, a critical factor to consider in wildfire forecasting."
      ],
      "metadata": {
        "id": "fGFlQDKelj5n"
      }
    }
  ]
}